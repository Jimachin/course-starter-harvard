{
 "cells": [
  {
   "cell_type": "code",
   "execution_count": 1,
   "metadata": {},
   "outputs": [],
   "source": [
    "import numpy as np\n",
    "import matplotlib.pyplot as plt\n",
    "import pandas as pd\n",
    "%matplotlib inline"
   ]
  },
  {
   "cell_type": "markdown",
   "metadata": {},
   "source": [
    "## Generate data"
   ]
  },
  {
   "cell_type": "code",
   "execution_count": 6,
   "metadata": {},
   "outputs": [],
   "source": [
    "npoints = 30 \n",
    "beta0 = 2.2\n",
    "beta1 = 1.2 \n",
    "epsillon = 0.75\n",
    "\n",
    "x = np.linspace(0, 4, num=npoints)\n",
    "y = beta0 + beta1*x + np.random.normal(loc=0, scale=epsillon, size=npoints)\n",
    "\n",
    "mydf = pd.DataFrame( {'x':x, 'y':y})\n",
    "\n",
    "mydf.to_csv('data.csv', index=False)\n"
   ]
  },
  {
   "cell_type": "markdown",
   "metadata": {},
   "source": [
    "## This is for the students. Exercises "
   ]
  },
  {
   "cell_type": "markdown",
   "metadata": {},
   "source": [
    "### Exercise 1:\n",
    "- Load data from data file `data.csv` using pandas\n",
    "- Examine the dataframe. How many points? "
   ]
  },
  {
   "cell_type": "code",
   "execution_count": 7,
   "metadata": {},
   "outputs": [
    {
     "data": {
      "text/html": [
       "<div>\n",
       "<style>\n",
       "    .dataframe thead tr:only-child th {\n",
       "        text-align: right;\n",
       "    }\n",
       "\n",
       "    .dataframe thead th {\n",
       "        text-align: left;\n",
       "    }\n",
       "\n",
       "    .dataframe tbody tr th {\n",
       "        vertical-align: top;\n",
       "    }\n",
       "</style>\n",
       "<table border=\"1\" class=\"dataframe\">\n",
       "  <thead>\n",
       "    <tr style=\"text-align: right;\">\n",
       "      <th></th>\n",
       "      <th>x</th>\n",
       "      <th>y</th>\n",
       "    </tr>\n",
       "  </thead>\n",
       "  <tbody>\n",
       "    <tr>\n",
       "      <th>count</th>\n",
       "      <td>30.000000</td>\n",
       "      <td>30.000000</td>\n",
       "    </tr>\n",
       "    <tr>\n",
       "      <th>mean</th>\n",
       "      <td>2.000000</td>\n",
       "      <td>4.550027</td>\n",
       "    </tr>\n",
       "    <tr>\n",
       "      <th>std</th>\n",
       "      <td>1.214263</td>\n",
       "      <td>1.676743</td>\n",
       "    </tr>\n",
       "    <tr>\n",
       "      <th>min</th>\n",
       "      <td>0.000000</td>\n",
       "      <td>0.798299</td>\n",
       "    </tr>\n",
       "    <tr>\n",
       "      <th>25%</th>\n",
       "      <td>1.000000</td>\n",
       "      <td>3.466871</td>\n",
       "    </tr>\n",
       "    <tr>\n",
       "      <th>50%</th>\n",
       "      <td>2.000000</td>\n",
       "      <td>5.068679</td>\n",
       "    </tr>\n",
       "    <tr>\n",
       "      <th>75%</th>\n",
       "      <td>3.000000</td>\n",
       "      <td>5.795154</td>\n",
       "    </tr>\n",
       "    <tr>\n",
       "      <th>max</th>\n",
       "      <td>4.000000</td>\n",
       "      <td>7.231384</td>\n",
       "    </tr>\n",
       "  </tbody>\n",
       "</table>\n",
       "</div>"
      ],
      "text/plain": [
       "               x          y\n",
       "count  30.000000  30.000000\n",
       "mean    2.000000   4.550027\n",
       "std     1.214263   1.676743\n",
       "min     0.000000   0.798299\n",
       "25%     1.000000   3.466871\n",
       "50%     2.000000   5.068679\n",
       "75%     3.000000   5.795154\n",
       "max     4.000000   7.231384"
      ]
     },
     "execution_count": 7,
     "metadata": {},
     "output_type": "execute_result"
    }
   ],
   "source": [
    "# Import the pandas library and name it pd \n",
    "import pandas as pd \n",
    "\n",
    "# Read data.csv file using pandas libraries \n",
    "mydf = pd.read_csv('data.csv');  # pd.... \n",
    "\n",
    "# Check number of observations and number of columns, mean values of x and y etc \n",
    "mydf.describe() # mydf.... "
   ]
  },
  {
   "cell_type": "markdown",
   "metadata": {},
   "source": [
    "### Exercise 2\n",
    "- Draw x vs y \n"
   ]
  },
  {
   "cell_type": "code",
   "execution_count": 11,
   "metadata": {},
   "outputs": [
    {
     "data": {
      "image/png": "[encoded data removed]",
      "text/plain": [
       "<matplotlib.figure.Figure at 0x1102f2550>"
      ]
     },
     "metadata": {},
     "output_type": "display_data"
    }
   ],
   "source": [
    "# Import the matplotlib \n",
    "import matplotlib.pyplot as plt \n",
    "\n",
    "# make sure the plots stay within the notebook \n",
    "%matplotlib inline\n",
    "\n",
    "plt.plot(mydf.x, mydf.y, 'bs')  # plt.... \n",
    "plt.savefig('ch1_fig1.png')"
   ]
  },
  {
   "cell_type": "markdown",
   "metadata": {},
   "source": [
    "### Exercise 3\n",
    "- Guess beta0 and beta1 and make predictions with your model. \n",
    "- Calculate the MSE for your model "
   ]
  },
  {
   "cell_type": "code",
   "execution_count": 98,
   "metadata": {},
   "outputs": [
    {
     "name": "stdout",
     "output_type": "stream",
     "text": [
      "My MSE is 1.0261679910109047\n"
     ]
    },
    {
     "data": {
      "image/png": "[encoded data removed]",
      "text/plain": [
       "<matplotlib.figure.Figure at 0x116ac9d30>"
      ]
     },
     "metadata": {},
     "output_type": "display_data"
    }
   ],
   "source": [
    "# Guestimate beta0 by observing the value of y when x = 0\n",
    "beta0 = 1.5    \n",
    "\n",
    "# Guestimate beta1! Check the slope for guidance\n",
    "beta1 = 1.5  \n",
    "\n",
    "x = mydf.x \n",
    "\n",
    "y_pred = beta0 + beta1 * x  # y_ped = ... \n",
    "\n",
    "# Plot the predicted values as well as the data \n",
    "plt.plot(x, mydf.y, 'bs')\n",
    "plt.plot(x, y_pred)\n",
    "\n",
    "# Calculate the MSE\n",
    "MSE  = np.mean((mydf.y-y_pred)**2)  # MSE = ... \n",
    "\n",
    "# Print the results \n",
    "print(\"My MSE is\", MSE)"
   ]
  },
  {
   "cell_type": "markdown",
   "metadata": {},
   "source": [
    "### Exercise 4\n",
    "- Set beta0 = 2.2 and examine all models for beta1 = 0,3 in increments of 0.1  "
   ]
  },
  {
   "cell_type": "code",
   "execution_count": 106,
   "metadata": {},
   "outputs": [
    {
     "data": {
      "text/plain": [
       "[<matplotlib.lines.Line2D at 0x115be6940>]"
      ]
     },
     "execution_count": 106,
     "metadata": {},
     "output_type": "execute_result"
    },
    {
     "data": {
      "image/png": "[encoded data removed]",
      "text/plain": [
       "<matplotlib.figure.Figure at 0x1160f1940>"
      ]
     },
     "metadata": {},
     "output_type": "display_data"
    }
   ],
   "source": [
    "# Set beta0 = 2.2 \n",
    "beta0 = 2.2 \n",
    "\n",
    "# Create lists to store the MSE and beta1\n",
    "MSE = [] \n",
    "beta1_list = []\n",
    "\n",
    "\n",
    "\n",
    "for beta1 in np.arange(0, 3, 0.1):        # for beta1 in np.arange(...)\n",
    "    y_pred = beta0 + beta1 * x   \n",
    "    # Appeend the new MSE in the list you created above  \n",
    "    MSE.append(np.mean((mydf.y-y_pred)**2) )  # MSE. ... \n",
    "    # Also append beta1 values in the list \n",
    "    beta1_list.append(beta1)\n",
    "\n",
    "# Plot MSE as a function of beta1 \n",
    "plt.plot(beta1_list, MSE)"
   ]
  },
  {
   "cell_type": "code",
   "execution_count": 105,
   "metadata": {},
   "outputs": [
    {
     "data": {
      "text/plain": [
       "[<matplotlib.lines.Line2D at 0x11637b128>]"
      ]
     },
     "execution_count": 105,
     "metadata": {},
     "output_type": "execute_result"
    },
    {
     "data": {
      "image/png": "[encoded data removed]",
      "text/plain": [
       "<matplotlib.figure.Figure at 0x115b31080>"
      ]
     },
     "metadata": {},
     "output_type": "display_data"
    }
   ],
   "source": []
  },
  {
   "cell_type": "code",
   "execution_count": null,
   "metadata": {},
   "outputs": [],
   "source": []
  }
 ],
 "metadata": {
  "kernelspec": {
   "display_name": "Python 3",
   "language": "python",
   "name": "python3"
  },
  "language_info": {
   "codemirror_mode": {
    "name": "ipython",
    "version": 3
   },
   "file_extension": ".py",
   "mimetype": "text/x-python",
   "name": "python",
   "nbconvert_exporter": "python",
   "pygments_lexer": "ipython3",
   "version": "3.6.8"
  }
 },
 "nbformat": 4,
 "nbformat_minor": 2
}
